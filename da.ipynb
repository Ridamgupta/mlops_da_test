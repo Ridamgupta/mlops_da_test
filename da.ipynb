{
 "cells": [
  {
   "cell_type": "code",
   "execution_count": 1,
   "metadata": {},
   "outputs": [],
   "source": [
    "import pandas as pd"
   ]
  },
  {
   "cell_type": "code",
   "execution_count": 11,
   "metadata": {},
   "outputs": [
    {
     "name": "stdout",
     "output_type": "stream",
     "text": [
      "Requirement already satisfied: openpyxl in c:\\users\\ridam gupta\\appdata\\local\\programs\\python\\python310\\lib\\site-packages (3.1.2)Note: you may need to restart the kernel to use updated packages.\n"
     ]
    },
    {
     "name": "stderr",
     "output_type": "stream",
     "text": [
      "WARNING: Ignoring invalid distribution -pencv-python (c:\\users\\ridam gupta\\appdata\\local\\programs\\python\\python310\\lib\\site-packages)\n",
      "WARNING: Ignoring invalid distribution -rotobuf (c:\\users\\ridam gupta\\appdata\\local\\programs\\python\\python310\\lib\\site-packages)\n",
      "WARNING: Error parsing requirements for pip: [Errno 2] No such file or directory: 'c:\\\\users\\\\ridam gupta\\\\appdata\\\\local\\\\programs\\\\python\\\\python310\\\\lib\\\\site-packages\\\\pip-22.0.4.dist-info\\\\METADATA'\n",
      "WARNING: Ignoring invalid distribution -pencv-python (c:\\users\\ridam gupta\\appdata\\local\\programs\\python\\python310\\lib\\site-packages)\n",
      "WARNING: Ignoring invalid distribution -rotobuf (c:\\users\\ridam gupta\\appdata\\local\\programs\\python\\python310\\lib\\site-packages)\n"
     ]
    },
    {
     "name": "stdout",
     "output_type": "stream",
     "text": [
      "\n",
      "Requirement already satisfied: et-xmlfile in c:\\users\\ridam gupta\\appdata\\local\\programs\\python\\python310\\lib\\site-packages (from openpyxl) (1.1.0)\n"
     ]
    }
   ],
   "source": [
    "pip install --upgrade openpyxl"
   ]
  },
  {
   "cell_type": "code",
   "execution_count": 3,
   "metadata": {},
   "outputs": [
    {
     "name": "stdout",
     "output_type": "stream",
     "text": [
      "   response_id collection_date urban_rural  education               income  \\\n",
      "0            1      2020-08-24       Rural  12th Pass  ₹ 30,000 - ₹ 50,000   \n",
      "1            2      2020-08-24       Rural   Graduate  ₹ 20,000 - ₹ 30,000   \n",
      "2            3      2020-08-24       Rural   Graduate   ₹ 5,000 - ₹ 10,000   \n",
      "3            4      2020-08-24       Urban   Graduate  ₹ 10,000 - ₹ 20,000   \n",
      "4            5      2020-08-24       Rural   Graduate  ₹ 50,000 - ₹ 80,000   \n",
      "\n",
      "  Vote_Now     Past_Vote     CM_satisfaction    MLA_satisfaction age gender  \\\n",
      "0      BJP           BJP  Fully Dissatisfied  Fully Dissatisfied  26   Male   \n",
      "1     RLSP         JD(U)  Somewhat Satisfied  Fully Dissatisfied  34   Male   \n",
      "2   JAP(L)           BJP  Fully Dissatisfied  Somewhat Satisfied  25   Male   \n",
      "3      RJD           RJD  Fully Dissatisfied  Somewhat Satisfied  36   Male   \n",
      "4    JD(U)  Did not vote     Fully Satisfied     Fully Satisfied  22   Male   \n",
      "\n",
      "   assembly_no category    weight  \n",
      "0          211      Gen  0.346969  \n",
      "1          189       BC  0.603419  \n",
      "2          191      Gen  0.673762  \n",
      "3          194      Gen  1.101298  \n",
      "4          176       BC  0.333505  \n"
     ]
    }
   ],
   "source": [
    "import pandas as pd\n",
    "\n",
    "survey = pd.read_excel(\"Sample Survey.xlsx\",sheet_name=\"Data\")\n",
    "\n",
    "print(survey.head())"
   ]
  },
  {
   "cell_type": "code",
   "execution_count": 18,
   "metadata": {},
   "outputs": [
    {
     "name": "stdout",
     "output_type": "stream",
     "text": [
      "collection_date\n",
      "2020-08-24    1479\n",
      "2020-08-25     998\n",
      "2020-08-28     761\n",
      "2020-08-27     665\n",
      "2020-08-29     620\n",
      "2020-09-01     607\n",
      "2020-08-26     598\n",
      "2020-08-30     582\n",
      "2020-08-31     557\n",
      "Name: count, dtype: int64\n"
     ]
    }
   ],
   "source": [
    "samples_per_day = survey[\"collection_date\"].value_counts()\n",
    "print(samples_per_day)"
   ]
  },
  {
   "cell_type": "code",
   "execution_count": 19,
   "metadata": {},
   "outputs": [
    {
     "name": "stdout",
     "output_type": "stream",
     "text": [
      "Proportion of respondents aged less than 45: 93.17%\n"
     ]
    }
   ],
   "source": [
    "survey[\"age\"] = pd.to_numeric(survey[\"age\"], errors=\"coerce\")\n",
    "total = len(survey)\n",
    "less_than_45 = len(survey[survey[\"age\"] < 45])\n",
    "p_less_than_45 = less_than_45 / total\n",
    "print(f\"Proportion of respondents aged less than 45: {less_than_45:.2%}\")"
   ]
  },
  {
   "cell_type": "code",
   "execution_count": 20,
   "metadata": {},
   "outputs": [
    {
     "name": "stdout",
     "output_type": "stream",
     "text": [
      "   response_id  age age_group\n",
      "0            1   26     25-40\n",
      "1            2   34     25-40\n",
      "2            3   25     18-25\n",
      "3            4   36     25-40\n",
      "4            5   22     18-25\n"
     ]
    }
   ],
   "source": [
    "age_bins = [18, 25, 40, 55, float(\"inf\")]\n",
    "age_labels = [\"18-25\", \"25-40\", \"40-55\", \"55+\"]\n",
    "survey[\"age_group\"] = pd.cut(survey[\"age\"], bins=age_bins, labels=age_labels)\n",
    "\n",
    "survey[\"age\"] = survey[\"age\"].dropna()\n",
    "\n",
    "survey[\"age\"] = survey[\"age\"].astype(int)\n",
    "\n",
    "print(survey[[\"response_id\", \"age\", \"age_group\"]].head())"
   ]
  },
  {
   "cell_type": "code",
   "execution_count": 21,
   "metadata": {},
   "outputs": [
    {
     "name": "stdout",
     "output_type": "stream",
     "text": [
      "age_group\n",
      "25-40    3423\n",
      "18-25    2566\n",
      "40-55     644\n",
      "55+       108\n",
      "Name: count, dtype: int64\n"
     ]
    }
   ],
   "source": [
    "age_group = survey[\"age_group\"].value_counts()\n",
    "print(age_group)"
   ]
  },
  {
   "cell_type": "code",
   "execution_count": 22,
   "metadata": {},
   "outputs": [
    {
     "name": "stdout",
     "output_type": "stream",
     "text": [
      "Proportion of respondents choosing RJD in both Vote_Now and Past_Vote: 11.81%\n"
     ]
    }
   ],
   "source": [
    "votes = survey[(survey[\"Vote_Now\"] == \"RJD\") & (survey[\"Past_Vote\"] == \"RJD\")]\n",
    "votes1 = len(votes) / len(survey)\n",
    "print(f\"Proportion of respondents choosing RJD in both Vote_Now and Past_Vote: {votes1:.2%}\")"
   ]
  },
  {
   "cell_type": "code",
   "execution_count": 31,
   "metadata": {},
   "outputs": [
    {
     "name": "stdout",
     "output_type": "stream",
     "text": [
      "Proportion of fully satisfied respondents with CM performance per day:\n",
      "collection_date\n",
      "2020-08-24    0.098715\n",
      "2020-08-25    0.095190\n",
      "2020-08-26    0.098662\n",
      "2020-08-27    0.081203\n",
      "2020-08-28    0.120894\n",
      "2020-08-29    0.117742\n",
      "2020-08-30    0.111684\n",
      "2020-08-31    0.111311\n",
      "2020-09-01    0.123558\n",
      "Freq: D, dtype: float64\n"
     ]
    }
   ],
   "source": [
    "satisfied = survey[survey[\"CM_satisfaction\"] == \"Fully Satisfied\"].groupby(\"collection_date\").size() / samples_per_day\n",
    "print(\"Proportion of fully satisfied respondents with CM performance per day:\")\n",
    "print(satisfied)"
   ]
  },
  {
   "cell_type": "code",
   "execution_count": 27,
   "metadata": {},
   "outputs": [
    {
     "data": {
      "text/plain": [
       "collection_date\n",
       "2020-08-24    146\n",
       "2020-08-25     95\n",
       "2020-08-26     59\n",
       "2020-08-27     54\n",
       "2020-08-28     92\n",
       "2020-08-29     73\n",
       "2020-08-30     65\n",
       "2020-08-31     62\n",
       "2020-09-01     75\n",
       "dtype: int64"
      ]
     },
     "execution_count": 27,
     "metadata": {},
     "output_type": "execute_result"
    }
   ],
   "source": [
    "survey[survey[\"CM_satisfaction\"] == \"Fully Satisfied\"].groupby(\"collection_date\").size()"
   ]
  },
  {
   "cell_type": "code",
   "execution_count": 32,
   "metadata": {},
   "outputs": [
    {
     "data": {
      "text/plain": [
       "<AxesSubplot:title={'center':'Proportion of fully dissatisfied respondents with MLA performance'}, xlabel='collection_date'>"
      ]
     },
     "execution_count": 32,
     "metadata": {},
     "output_type": "execute_result"
    },
    {
     "data": {
      "image/png": "[encoded data removed]",
      "text/plain": [
       "<Figure size 432x288 with 1 Axes>"
      ]
     },
     "metadata": {
      "needs_background": "light"
     },
     "output_type": "display_data"
    }
   ],
   "source": [
    "dissatisfied = survey[survey[\"MLA_satisfaction\"] == \"Fully Dissatisfied\"].groupby(\"collection_date\").size() / samples_per_day\n",
    "dissatisfied.plot(kind=\"line\", title=\"Proportion of fully dissatisfied respondents with MLA performance\")"
   ]
  },
  {
   "cell_type": "code",
   "execution_count": 33,
   "metadata": {},
   "outputs": [
    {
     "name": "stdout",
     "output_type": "stream",
     "text": [
      "Vote_Now      AAP  AIMIM   BJP  BSP  HAM  INC  JAP(L)  JD(U)  LJP  Left Front  \\\n",
      "Past_Vote                                                                       \n",
      "BJP             7      1  1630    3    5   42     101    110   44          13   \n",
      "BSP             0      1     2    5    0    1       0      0    0           0   \n",
      "Did not vote    8      5   231    2    1   22      41     69   10          16   \n",
      "HAM             2      0    25    0    1    0       3      2    2           0   \n",
      "INC             0      6     6    0    0   57      10      9    0           3   \n",
      "JAP(L)          0      0     4    0    0    0      35      0    0           0   \n",
      "JD(U)           6     10   254    2    2   45      72    279   29           9   \n",
      "LJP             0      0    76    1    0    4       3      6    9           2   \n",
      "Left Front      0      1     2    0    0    1       0      0    0          18   \n",
      "NOTA            0      1    29    1    0    9       7      7    3           5   \n",
      "Others          1      5    45    1    1    4       7      4    1           4   \n",
      "RJD             3      7    46    0    1   31      31     39    4           9   \n",
      "RLSP            0      0    17    0    0    0       3      0    0           0   \n",
      "VIP             0      0     0    0    0    0       0      1    0           0   \n",
      "\n",
      "Vote_Now      NOTA  Others  Plurals  RJD  RJJP  RLSP  Undecided  VIP  \n",
      "Past_Vote                                                             \n",
      "BJP            194      32       87  370    88    24         62   10  \n",
      "BSP              0       0        0    0     0     0          0    0  \n",
      "Did not vote    83      11       51  195    20     3         31    5  \n",
      "HAM              4       0        0    6     4     0          1    0  \n",
      "INC              6       3        3  100     1     2          7    0  \n",
      "JAP(L)           0       1        0    2     0     0          0    0  \n",
      "JD(U)           90      18       43  435    13    25         36    6  \n",
      "LJP              3       0        2   17     1     0          1    0  \n",
      "Left Front       1       1        0    4     0     1          0    1  \n",
      "NOTA            46       7       11   27     5     4          5    0  \n",
      "Others          10       6        8   21     7     1          6    0  \n",
      "RJD             18       8       10  811     1    10         14    4  \n",
      "RLSP             3       0        2    8     2    12          1    1  \n",
      "VIP              0       0        0    0     0     0          0    1  \n"
     ]
    }
   ],
   "source": [
    "count = pd.crosstab(survey[\"Past_Vote\"], survey[\"Vote_Now\"])\n",
    "print(count)"
   ]
  },
  {
   "cell_type": "code",
   "execution_count": 34,
   "metadata": {},
   "outputs": [
    {
     "name": "stdout",
     "output_type": "stream",
     "text": [
      "Vote_Now            AAP      AIMIM          BJP        BSP        HAM  \\\n",
      "Past_Vote                                                               \n",
      "BJP            4.807335   0.349996  1049.344112   0.452551  10.171283   \n",
      "BSP                 NaN   1.654731     5.174487  32.010277        NaN   \n",
      "Did not vote   8.865896   5.379527   114.203906   3.329611   2.497170   \n",
      "HAM            0.312607        NaN    25.348884        NaN   1.648856   \n",
      "INC                 NaN  11.105958     1.642875        NaN        NaN   \n",
      "JAP(L)              NaN        NaN     6.512846        NaN        NaN   \n",
      "JD(U)         12.457216  29.198610   156.243100  11.005903   2.639574   \n",
      "LJP                 NaN        NaN    85.010450   2.481377        NaN   \n",
      "Left Front          NaN   2.298223     0.209586        NaN        NaN   \n",
      "NOTA                NaN   1.061204    12.685435   0.051485        NaN   \n",
      "Others        13.661335  21.212705    34.866218   0.684568   1.505864   \n",
      "RJD            5.515847  24.149369    32.285093        NaN   0.960400   \n",
      "RLSP                NaN        NaN    23.376575        NaN        NaN   \n",
      "VIP                 NaN        NaN          NaN        NaN        NaN   \n",
      "\n",
      "Vote_Now             INC      JAP(L)       JD(U)        LJP  Left Front  \\\n",
      "Past_Vote                                                                 \n",
      "BJP            50.055502   63.832368   68.029581  45.716215    7.537394   \n",
      "BSP             2.298223         NaN         NaN        NaN         NaN   \n",
      "Did not vote   27.791290   26.359190   58.983458  11.801813   13.050113   \n",
      "HAM                  NaN    0.712161    1.006719   2.496424         NaN   \n",
      "INC           161.742302   18.942597   11.077323        NaN    6.268726   \n",
      "JAP(L)               NaN   57.876224         NaN        NaN         NaN   \n",
      "JD(U)          91.806261  106.217216  498.796862  33.148113   11.765603   \n",
      "LJP            21.613385    7.375946   11.382812  26.868529    1.712452   \n",
      "Left Front      2.291368         NaN         NaN        NaN   44.280864   \n",
      "NOTA            3.844332    8.645440   12.132362   1.353138    2.863587   \n",
      "Others          1.389539    5.333891    5.101976   2.481377    4.017150   \n",
      "RJD            67.072640   28.661774   55.385673   9.226178   35.399702   \n",
      "RLSP                 NaN    3.269255         NaN        NaN         NaN   \n",
      "VIP                  NaN         NaN    0.333505        NaN         NaN   \n",
      "\n",
      "Vote_Now            NOTA     Others    Plurals          RJD       RJJP  \\\n",
      "Past_Vote                                                                \n",
      "BJP           114.913686   8.790137  50.016163   250.948101  16.047570   \n",
      "BSP                  NaN        NaN        NaN          NaN        NaN   \n",
      "Did not vote   44.725179   7.289933  25.319524   173.882525   4.349832   \n",
      "HAM             0.928984        NaN        NaN     7.713008   1.903148   \n",
      "INC             5.999014   1.552038   1.588527   195.020050   5.340403   \n",
      "JAP(L)               NaN   3.195682        NaN     2.164824        NaN   \n",
      "JD(U)          61.109706  29.196072  45.175289   657.155514   4.015909   \n",
      "LJP             0.813171        NaN   1.927965    30.737989   0.478933   \n",
      "Left Front      0.201455   8.309203        NaN     6.740281        NaN   \n",
      "NOTA           35.310377  13.594657   3.676105    20.552066   1.116006   \n",
      "Others          9.419087   8.236678   2.715087    38.194805   1.754671   \n",
      "RJD            25.113668  14.999222  14.179660  1016.975742   0.085758   \n",
      "RLSP            1.097574        NaN   0.499403    14.951502   1.955662   \n",
      "VIP                  NaN        NaN        NaN          NaN        NaN   \n",
      "\n",
      "Vote_Now           RLSP  Undecided        VIP  \n",
      "Past_Vote                                      \n",
      "BJP           18.715113  41.286954  18.691691  \n",
      "BSP                 NaN        NaN        NaN  \n",
      "Did not vote   5.041587  22.015457  10.696552  \n",
      "HAM                 NaN   0.039564        NaN  \n",
      "INC            1.140299   8.558475        NaN  \n",
      "JAP(L)              NaN        NaN        NaN  \n",
      "JD(U)         44.376194  58.137833  20.675288  \n",
      "LJP                 NaN   1.709409        NaN  \n",
      "Left Front     0.877960        NaN   3.020887  \n",
      "NOTA           4.502676   1.570309        NaN  \n",
      "Others         3.800565   2.504778        NaN  \n",
      "RJD           10.752145  21.523115  13.161145  \n",
      "RLSP          23.505807   3.524302   8.258391  \n",
      "VIP                 NaN        NaN   0.372959  \n"
     ]
    }
   ],
   "source": [
    "table_weight_sum = pd.crosstab(survey[\"Past_Vote\"], survey[\"Vote_Now\"], values=survey[\"weight\"], aggfunc=\"sum\")\n",
    "print(table_weight_sum)"
   ]
  },
  {
   "cell_type": "code",
   "execution_count": 42,
   "metadata": {},
   "outputs": [
    {
     "name": "stdout",
     "output_type": "stream",
     "text": [
      "age_group\n",
      "18-25    2566\n",
      "25-40    3423\n",
      "40-55     644\n",
      "55+       108\n",
      "dtype: int64\n"
     ]
    },
    {
     "name": "stderr",
     "output_type": "stream",
     "text": [
      "C:\\Users\\Ridam Gupta\\AppData\\Local\\Temp\\ipykernel_18288\\2290124993.py:1: FutureWarning: The default of observed=False is deprecated and will be changed to True in a future version of pandas. Pass observed=False to retain current behavior or observed=True to adopt the future default and silence this warning.\n",
      "  by_agegroup = survey.groupby(\"age_group\").size()\n"
     ]
    }
   ],
   "source": [
    "by_agegroup = survey.groupby(\"age_group\").size()\n",
    "print(by_agegroup)"
   ]
  },
  {
   "cell_type": "code",
   "execution_count": 37,
   "metadata": {},
   "outputs": [
    {
     "name": "stdout",
     "output_type": "stream",
     "text": [
      "           JDU_samples\n",
      "age_group             \n",
      "18-25              198\n",
      "25-40              245\n",
      "40-55               55\n",
      "55+                 10\n"
     ]
    },
    {
     "name": "stderr",
     "output_type": "stream",
     "text": [
      "C:\\Users\\Ridam Gupta\\AppData\\Local\\Temp\\ipykernel_18288\\3154768664.py:2: FutureWarning: The default of observed=False is deprecated and will be changed to True in a future version of pandas. Pass observed=False to retain current behavior or observed=True to adopt the future default and silence this warning.\n",
      "  jdu_samples_age = jdu_samples.groupby(\"age_group\").size()\n"
     ]
    }
   ],
   "source": [
    "jdu_samples = survey[survey[\"Vote_Now\"] == \"JD(U)\"]\n",
    "jdu_samples_age = jdu_samples.groupby(\"age_group\").size()\n",
    "\n",
    "jdu_samples_df = pd.DataFrame(jdu_samples_age, columns=[\"JDU_samples\"])\n",
    "\n",
    "print(jdu_samples_df)\n"
   ]
  }
 ],
 "metadata": {
  "kernelspec": {
   "display_name": "Python 3",
   "language": "python",
   "name": "python3"
  },
  "language_info": {
   "codemirror_mode": {
    "name": "ipython",
    "version": 3
   },
   "file_extension": ".py",
   "mimetype": "text/x-python",
   "name": "python",
   "nbconvert_exporter": "python",
   "pygments_lexer": "ipython3",
   "version": "3.10.4"
  }
 },
 "nbformat": 4,
 "nbformat_minor": 2
}
